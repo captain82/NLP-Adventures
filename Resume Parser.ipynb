{
 "cells": [
  {
   "cell_type": "code",
   "execution_count": 2,
   "metadata": {},
   "outputs": [],
   "source": [
    "import spacy\n",
    "import pickle\n",
    "import random"
   ]
  },
  {
   "cell_type": "code",
   "execution_count": 3,
   "metadata": {},
   "outputs": [],
   "source": [
    "train_data = pickle.load(open('train_data.pkl','rb'))"
   ]
  },
  {
   "cell_type": "code",
   "execution_count": 4,
   "metadata": {},
   "outputs": [
    {
     "data": {
      "text/plain": [
       "(\"Madhuri Sripathi Banglore, Karnataka, Karnataka - Email me on Indeed: indeed.com/r/Madhuri- Sripathi/04a52a262175111c  Around 4 years of IT experience in analysis, testing and scripting on L2/L3 layer protocols and desiging testcases and automating the same in TCL/TK and Python.  • Expertise in Networking Protocols L2, L3 protocols, Manual, Performance, Platform, Regression and Automation Testing. • Experience in python scripting and PYATS framework. • Coordinating with onsite/offsite teams in resolving the defects found in Testing and working on queries raised by customers.. • Reviewing the automated scripts. • Exposure to Networking Protocols such as DHCP, OSPF, RIP, VLAN, STP/RSTP, LACP, TCP/IP, IPv4, Ipv6, Ethernet. • Automation in Python. • Excellent ability to plan, organize and prioritize my work to meet on time the deadlines of my clients and keep customer's satisfaction at the highest level possible. • Proven ability in quick understanding and learning of new technologies and their application in business solutions • Good debugging and problem solving skills with excellent understanding of system development methodologies, techniques and tools. • Highly motivated team member with strong communication, analytical and organizational skills. • Strong communication, interpersonal and analytical skills with proficiency at grasping new concepts quickly and utilizing the same in a productive manner. • Willingness and ability to quickly adapt to new environment. • Good positive attitude and ability to learn new things independently.  • Worked as Senior project engineer in Wipro Technologies, from Jan2014 to till date.  Languages: C Network Analysis Tools: QDDTS, GNS3, IXIA, SPIRENT, PAGENT Routing protocols VLAN, ETHECHANNELSTP, RSTP, RIP, EIGRP, OSPF, BGP, MPLS, L2VPN, L3VPN, IPSEC and MULTICAST. Scripting Language Perl, Tcl/TK, Python Traffic Generators IXIA, PAGENT, SPIRENT Management Protocols Telnet, SNMP  Willing to relocate to: UAE - Dubai - abu-dabhi  WORK EXPERIENCE  Senior project engineer  Cisco -  Bengaluru, Karnataka -  March 2014 to Present  https://www.indeed.com/r/Madhuri-Sripathi/04a52a262175111c?isid=rex-download&ikw=download-top&co=IN https://www.indeed.com/r/Madhuri-Sripathi/04a52a262175111c?isid=rex-download&ikw=download-top&co=IN   Cisco 7600 is a router which supports both layer2 and layer3 protocols. It mainly deploys protocols like MPLS and having specific modules to support the protocols IPSEC. Worked as system testing, performance testing, stress testing and regression testing for all the IOS release on all layer 2 and layer 3 protocols.  Wipro Technologies Limited (Bangalore, Karnataka) Senior project engineer (March 2014 till date)  Senior software engineer  Wipro -  February 2014 to Present  Responsibilities: • Responsible for regression and Manual testing of CISCO IOS -7600 • Test case execution, test case results tracking, debugging, logging defects in CDETS, reproductions and fix verification. • Configuration and Testing on Routing protocols OSPF, BGP, OSPF, MPLS, L3VPN, L2VPN, IPSEC, QOS, SNMP and MULTICAST features on Cisco 7600 Routers. • Filed critical bugs of high severity, through root cause analysis and effective testing methods Bug verification, Bug tracking, and documentation and review bug fixes. • Engaged in regression testing, filing bugs against Cisco IOS images to improve the quality of the images and send weekly test reports. • Mentoring of new joiners in the team and conducting technical training sessions. • Responsibility for the 7600 platform customer queries (AT&T, Bharati, Vodafone, German IT, etc ) • Involved in Sev1, Sev2 and sev3 cases and MW related to L2/L3 Features. • Create a Local Repro of the issue which was raised by the customer. • Analyzed the customer issues and will provide the solutions to the customers • Worked with Developer to verify the DDTs fix for the customer Found Defects • System Testing on every New IOS build for the L2/L3 protocols. • Configuration and Testing on routing protocols • Working on Functionality, Scalability and Performance testing • Preparing of Test beds and topologies using Line cards - SIP200, SIP400, SIP600, ES+, ES20, GIG and TenGig Lancards, pagent, IXIA Traffic generators etc. to create customer setup in local Labs • Knowledge on TCL scripting and automated customer found issues into regression testing and also able to troubleshoot the script issues.  EDUCATION  Master degree in computer science in computer science  PES college  S.S.C in computer science  Rajah college    SKILLS  LINUX (4 years), UNIX (4 years), ospf (4 years), bgp (4 years), mpls (4 years), ipsec (4 years), multicast (4 years), l2vpn (4 years), l3vpn (4 years), tcl (4 years), python (2 years)  ADDITIONAL INFORMATION  Operating Systems: LINUX, UNIX Other protocols ARP, RARP, ICMP,ospf,bgp,mpls,l2vpn,l3vpn Automaton tools: tcl,python\",\n",
       " {'entities': [(4563, 4747, 'Skills'),\n",
       "   (4538, 4552, 'College Name'),\n",
       "   (4511, 4536, 'Degree'),\n",
       "   (4498, 4509, 'College Name'),\n",
       "   (4443, 4496, 'Degree'),\n",
       "   (3353, 3358, 'Companies worked at'),\n",
       "   (3110, 3115, 'Companies worked at'),\n",
       "   (2737, 2742, 'Companies worked at'),\n",
       "   (2711, 2736, 'Designation'),\n",
       "   (2663, 2686, 'Designation'),\n",
       "   (2613, 2618, 'Companies worked at'),\n",
       "   (2295, 2300, 'Companies worked at'),\n",
       "   (2037, 2042, 'Companies worked at'),\n",
       "   (2012, 2035, 'Designation'),\n",
       "   (1600, 1605, 'Companies worked at'),\n",
       "   (1573, 1596, 'Designation'),\n",
       "   (126, 132, 'Years of Experience'),\n",
       "   (62, 118, 'Email Address'),\n",
       "   (17, 25, 'Location'),\n",
       "   (0, 16, 'Name')]})"
      ]
     },
     "execution_count": 4,
     "metadata": {},
     "output_type": "execute_result"
    }
   ],
   "source": [
    "train_data[20]"
   ]
  },
  {
   "cell_type": "code",
   "execution_count": 5,
   "metadata": {},
   "outputs": [],
   "source": [
    "nlp = spacy.blank('en')"
   ]
  },
  {
   "cell_type": "code",
   "execution_count": 17,
   "metadata": {},
   "outputs": [],
   "source": [
    "def train_model(train_data):\n",
    "    if 'ner' not in nlp.pipe_names:\n",
    "        ner = nlp.create_pipe('ner')\n",
    "        nlp.add_pipe(ner,last = True)\n",
    "        \n",
    "    for _,annotation in train_data:\n",
    "        for ent in annotation['entities']:\n",
    "            ner.add_label(ent[2])\n",
    "            \n",
    "    other_pipes = [pipe for pipe in nlp.pipe_names if pipe!='ner']\n",
    "    with nlp.disable_pipes(*other_pipes):\n",
    "        optimizer = nlp.begin_training()\n",
    "        for itn in range(10):\n",
    "            print(\"Starting iteration \"+str(itn))\n",
    "            random.shuffle(train_data)\n",
    "            losses = {}\n",
    "            index = 0\n",
    "            for text,annotations in train_data:\n",
    "                try:\n",
    "                    nlp.update(\n",
    "                    [text],\n",
    "                    [annotations],\n",
    "                    drop = 0.2,\n",
    "                    sgd = optimizer,\n",
    "                    losses = losses)\n",
    "                except Exception as e:\n",
    "                    pass\n",
    "                    \n",
    "        print(losses)\n",
    "        "
   ]
  },
  {
   "cell_type": "code",
   "execution_count": 18,
   "metadata": {},
   "outputs": [
    {
     "name": "stdout",
     "output_type": "stream",
     "text": [
      "Starting iteration 0\n",
      "Starting iteration 1\n",
      "Starting iteration 2\n",
      "Starting iteration 3\n",
      "Starting iteration 4\n",
      "Starting iteration 5\n",
      "Starting iteration 6\n",
      "Starting iteration 7\n",
      "Starting iteration 8\n",
      "Starting iteration 9\n",
      "{'ner': 4185.385535135542}\n"
     ]
    }
   ],
   "source": [
    "train_model(train_data)"
   ]
  },
  {
   "cell_type": "code",
   "execution_count": 19,
   "metadata": {},
   "outputs": [],
   "source": [
    "nlp.to_disk('nlp_model')"
   ]
  },
  {
   "cell_type": "code",
   "execution_count": 6,
   "metadata": {},
   "outputs": [],
   "source": [
    "nlp_model = spacy.load('nlp_model')"
   ]
  },
  {
   "cell_type": "code",
   "execution_count": 7,
   "metadata": {},
   "outputs": [
    {
     "data": {
      "text/plain": [
       "'Govardhana K Senior Software Engineer  Bengaluru, Karnataka, Karnataka - Email me on Indeed: indeed.com/r/Govardhana-K/ b2de315d95905b68  Total IT experience 5 Years 6 Months Cloud Lending Solutions INC 4 Month • Salesforce Developer Oracle 5 Years 2 Month • Core Java Developer Languages Core Java, Go Lang Oracle PL-SQL programming, Sales Force Developer with APEX.  Designations & Promotions  Willing to relocate: Anywhere  WORK EXPERIENCE  Senior Software Engineer  Cloud Lending Solutions -  Bangalore, Karnataka -  January 2018 to Present  Present  Senior Consultant  Oracle -  Bangalore, Karnataka -  November 2016 to December 2017  Staff Consultant  Oracle -  Bangalore, Karnataka -  January 2014 to October 2016  Associate Consultant  Oracle -  Bangalore, Karnataka -  November 2012 to December 2013  EDUCATION  B.E in Computer Science Engineering  Adithya Institute of Technology -  Tamil Nadu  September 2008 to June 2012  https://www.indeed.com/r/Govardhana-K/b2de315d95905b68?isid=rex-download&ikw=download-top&co=IN https://www.indeed.com/r/Govardhana-K/b2de315d95905b68?isid=rex-download&ikw=download-top&co=IN   SKILLS  APEX. (Less than 1 year), Data Structures (3 years), FLEXCUBE (5 years), Oracle (5 years), Algorithms (3 years)  LINKS  https://www.linkedin.com/in/govardhana-k-61024944/  ADDITIONAL INFORMATION  Technical Proficiency:  Languages: Core Java, Go Lang, Data Structures & Algorithms, Oracle PL-SQL programming, Sales Force with APEX. Tools: RADTool, Jdeveloper, NetBeans, Eclipse, SQL developer, PL/SQL Developer, WinSCP, Putty Web Technologies: JavaScript, XML, HTML, Webservice  Operating Systems: Linux, Windows Version control system SVN & Git-Hub Databases: Oracle Middleware: Web logic, OC4J Product FLEXCUBE: Oracle FLEXCUBE Versions 10.x, 11.x and 12.x  https://www.linkedin.com/in/govardhana-k-61024944/'"
      ]
     },
     "execution_count": 7,
     "metadata": {},
     "output_type": "execute_result"
    }
   ],
   "source": [
    "train_data[0][0]"
   ]
  },
  {
   "cell_type": "code",
   "execution_count": 8,
   "metadata": {},
   "outputs": [
    {
     "name": "stdout",
     "output_type": "stream",
     "text": [
      "NAME                           - Govardhana K\n",
      "DESIGNATION                    - Senior Software Engineer\n",
      "LOCATION                       - Bengaluru\n",
      "DESIGNATION                    - Senior Software Engineer\n",
      "DESIGNATION                    - Senior Consultant\n",
      "COMPANIES WORKED AT            - Oracle\n",
      "COMPANIES WORKED AT            - Oracle\n",
      "DESIGNATION                    - Associate Consultant\n",
      "COMPANIES WORKED AT            - Oracle\n",
      "DEGREE                         - B.E in Computer Science Engineering\n",
      "COLLEGE NAME                   - Adithya Institute of Technology\n"
     ]
    }
   ],
   "source": [
    "doc = nlp_model(train_data[0][0])\n",
    "for ent in doc.ents:\n",
    "    print(f'{ent.label_.upper():{30}} - {ent.text}')"
   ]
  },
  {
   "cell_type": "code",
   "execution_count": 32,
   "metadata": {},
   "outputs": [
    {
     "name": "stdout",
     "output_type": "stream",
     "text": [
      "Collecting PyMuPDF==1.16.18\n",
      "  Downloading PyMuPDF-1.16.18-cp37-cp37m-macosx_10_9_x86_64.whl (5.1 MB)\n",
      "\u001b[K     |████████████████████████████████| 5.1 MB 639 kB/s eta 0:00:01\n",
      "\u001b[?25hInstalling collected packages: PyMuPDF\n",
      "Successfully installed PyMuPDF-1.16.18\n",
      "Note: you may need to restart the kernel to use updated packages.\n"
     ]
    }
   ],
   "source": [
    "pip install PyMuPDF==1.16.18"
   ]
  },
  {
   "cell_type": "code",
   "execution_count": 13,
   "metadata": {},
   "outputs": [],
   "source": [
    "import sys,fitz"
   ]
  },
  {
   "cell_type": "code",
   "execution_count": 19,
   "metadata": {},
   "outputs": [
    {
     "name": "stdout",
     "output_type": "stream",
     "text": [
      "ANKIT KUMAR Android Developer I love building amazing apps on Android platform.Have fulltime internship experience of 8 months. Worked on rang e of apps like payment,social media and e-commerce with more than 500k users.Pro�cient with both Kotlin and Jav a.I can �x bugs,crashes and write e�ective Unit Tests.For my amazing projects have a look at my github pro�le \"ww w.github.com/captain82\". INFO Email nktkumar82@gmail.com Phone 7979008211 Address HSR Layout,Bangalore EDUCATION B.Tech Netaji Subhash Engineering College 07/16 - Present Electroncis and Communication Senior Secondary Guru Gobind Singh Public School 08/13 - 08/15 Science Secondary Holy Family School 07/12 - 07/13 Science SKILLS Android  Kotlin  Java  MVVM Git  Unit Testing  HTML  CSS LANGUAGES English  Hindi EXPERIENCE Android Developer Intern Furlenco 01/20 - Present Shipped Package Inclusion details of furniture items in which i worked o n various network calls,intent,animations.Currently working on Debit Au to Pay feature of the app using Razorpay.Also exploring Rx code used in the app and trying to implement new Api using that. Android Developer Intern One Wallet Hub 07/2019 - 09/2019 Implemented custom interceptors for Retro�t.Converted the app to MV VM arhitecture. Also wrote unit test and espresso test for the app. Android Developer Intern Cessini Technology Pvt ltd. 02/2019 - 05/2019 Worked on Animation and UI in Android.Implemented libraries including Picasso,Retro�t,ImageCropping etc. Also woked on local storage using R oom. PROJECTS Instaresume A android app for building resumes. Launched the app in the play store a nd currently has approx 200 active users and growing.Builded templates using HTML and CSS.Using Room and Shared Preference for saving data l ocally.Firebase Auth and Realtime Database is used for saving user data. The architecture followed is MVVM.The app can be found in PlayStore. LunchBox This app uses Zomato public APIs to fetch all the restaurants in a particul ar area.Used mvvm architecture,data binding,live data,view model and n etwork calls using Picasso.The location is fetched using lattitude and lon gitude of user.. INTERETS Reading Books  Music  AI \n"
     ]
    }
   ],
   "source": [
    "fname = \"ankit.pdf\"\n",
    "doc = fitz.open(fname)\n",
    "text = \"\"\n",
    "for page in doc:\n",
    "    text = text+str(page.getText())\n",
    "    \n",
    "text.strip()\n",
    "tx= \" \".join(text.split('\\n'))\n",
    "print(tx)"
   ]
  },
  {
   "cell_type": "code",
   "execution_count": 22,
   "metadata": {},
   "outputs": [
    {
     "name": "stdout",
     "output_type": "stream",
     "text": [
      "NAME                           - ANKIT KUMAR\n",
      "YEARS OF EXPERIENCE            - Android Developer\n",
      "DEGREE                         - B.Tech Netaji Subhash Engineering College 07/16\n"
     ]
    }
   ],
   "source": [
    "doc = nlp_model(tx)\n",
    "for ent in doc.ents:\n",
    "    print(f'{ent.label_.upper():{30}} - {ent.text}')"
   ]
  },
  {
   "cell_type": "code",
   "execution_count": null,
   "metadata": {},
   "outputs": [],
   "source": []
  }
 ],
 "metadata": {
  "kernelspec": {
   "display_name": "Python 3",
   "language": "python",
   "name": "python3"
  },
  "language_info": {
   "codemirror_mode": {
    "name": "ipython",
    "version": 3
   },
   "file_extension": ".py",
   "mimetype": "text/x-python",
   "name": "python",
   "nbconvert_exporter": "python",
   "pygments_lexer": "ipython3",
   "version": "3.7.6"
  }
 },
 "nbformat": 4,
 "nbformat_minor": 4
}
