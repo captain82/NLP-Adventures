{
 "cells": [
  {
   "cell_type": "code",
   "execution_count": 6,
   "metadata": {},
   "outputs": [],
   "source": [
    "import spacy\n",
    "from spacy.lang.en.stop_words import STOP_WORDS\n",
    "from string import punctuation"
   ]
  },
  {
   "cell_type": "code",
   "execution_count": 43,
   "metadata": {},
   "outputs": [
    {
     "data": {
      "text/plain": [
       "set"
      ]
     },
     "execution_count": 43,
     "metadata": {},
     "output_type": "execute_result"
    }
   ],
   "source": [
    "stopwords = list(STOP_WORDS)\n",
    "stopwords\n",
    "type(STOP_WORDS)\n"
   ]
  },
  {
   "cell_type": "code",
   "execution_count": 74,
   "metadata": {},
   "outputs": [],
   "source": [
    "text  = \"\"\"\n",
    "This app lets you build your Resume within minutes.Contains prebuilt templates which can be selected and after entering the details Resume is generated. This part of the app is already completed.However this project aims to solve one more problem. Research shows that, 90% of all CVs/ Resumes are checked for less than 2 minutes by the employers. This implies that, in most of the cases the employers only look at the bits of important parts or the points of interest in the CV/ Resumes and ignores the rest.With the help of on Device machine learning and NLP this problem can be solved.\n",
    "\n",
    "The project is divided into two sub-parts:\n",
    "\n",
    "    Resume Building - This part is complete and a open public Beta is under review by Google Play before being published.\n",
    "\n",
    "    Resume Scoring - With this feature students/professionals will be able to see the score of their resume against the job requirement and get feedback on how to how to improve their resume and things or keywords to include or avoid so that their resume easily gets noted by recruiter or passes the ATS system and thus increases the chances of getting a offer.\n",
    "\n",
    "\"\"\""
   ]
  },
  {
   "cell_type": "code",
   "execution_count": 75,
   "metadata": {},
   "outputs": [],
   "source": [
    "nlp = spacy.load('en_core_web_lg')"
   ]
  },
  {
   "cell_type": "code",
   "execution_count": 76,
   "metadata": {},
   "outputs": [],
   "source": [
    "doc = nlp(text)"
   ]
  },
  {
   "cell_type": "code",
   "execution_count": 77,
   "metadata": {},
   "outputs": [
    {
     "data": {
      "text/plain": [
       "['\\n',\n",
       " 'This',\n",
       " 'app',\n",
       " 'lets',\n",
       " 'you',\n",
       " 'build',\n",
       " 'your',\n",
       " 'Resume',\n",
       " 'within',\n",
       " 'minutes',\n",
       " '.',\n",
       " 'Contains',\n",
       " 'prebuilt',\n",
       " 'templates',\n",
       " 'which',\n",
       " 'can',\n",
       " 'be',\n",
       " 'selected',\n",
       " 'and',\n",
       " 'after',\n",
       " 'entering',\n",
       " 'the',\n",
       " 'details',\n",
       " 'Resume',\n",
       " 'is',\n",
       " 'generated',\n",
       " '.',\n",
       " 'This',\n",
       " 'part',\n",
       " 'of',\n",
       " 'the',\n",
       " 'app',\n",
       " 'is',\n",
       " 'already',\n",
       " 'completed',\n",
       " '.',\n",
       " 'However',\n",
       " 'this',\n",
       " 'project',\n",
       " 'aims',\n",
       " 'to',\n",
       " 'solve',\n",
       " 'one',\n",
       " 'more',\n",
       " 'problem',\n",
       " '.',\n",
       " 'Research',\n",
       " 'shows',\n",
       " 'that',\n",
       " ',',\n",
       " '90',\n",
       " '%',\n",
       " 'of',\n",
       " 'all',\n",
       " 'CVs/',\n",
       " 'Resumes',\n",
       " 'are',\n",
       " 'checked',\n",
       " 'for',\n",
       " 'less',\n",
       " 'than',\n",
       " '2',\n",
       " 'minutes',\n",
       " 'by',\n",
       " 'the',\n",
       " 'employers',\n",
       " '.',\n",
       " 'This',\n",
       " 'implies',\n",
       " 'that',\n",
       " ',',\n",
       " 'in',\n",
       " 'most',\n",
       " 'of',\n",
       " 'the',\n",
       " 'cases',\n",
       " 'the',\n",
       " 'employers',\n",
       " 'only',\n",
       " 'look',\n",
       " 'at',\n",
       " 'the',\n",
       " 'bits',\n",
       " 'of',\n",
       " 'important',\n",
       " 'parts',\n",
       " 'or',\n",
       " 'the',\n",
       " 'points',\n",
       " 'of',\n",
       " 'interest',\n",
       " 'in',\n",
       " 'the',\n",
       " 'CV/',\n",
       " 'Resumes',\n",
       " 'and',\n",
       " 'ignores',\n",
       " 'the',\n",
       " 'rest',\n",
       " '.',\n",
       " 'With',\n",
       " 'the',\n",
       " 'help',\n",
       " 'of',\n",
       " 'on',\n",
       " 'Device',\n",
       " 'machine',\n",
       " 'learning',\n",
       " 'and',\n",
       " 'NLP',\n",
       " 'this',\n",
       " 'problem',\n",
       " 'can',\n",
       " 'be',\n",
       " 'solved',\n",
       " '.',\n",
       " '\\n\\n',\n",
       " 'The',\n",
       " 'project',\n",
       " 'is',\n",
       " 'divided',\n",
       " 'into',\n",
       " 'two',\n",
       " 'sub',\n",
       " '-',\n",
       " 'parts',\n",
       " ':',\n",
       " '\\n\\n    ',\n",
       " 'Resume',\n",
       " 'Building',\n",
       " '-',\n",
       " 'This',\n",
       " 'part',\n",
       " 'is',\n",
       " 'complete',\n",
       " 'and',\n",
       " 'a',\n",
       " 'open',\n",
       " 'public',\n",
       " 'Beta',\n",
       " 'is',\n",
       " 'under',\n",
       " 'review',\n",
       " 'by',\n",
       " 'Google',\n",
       " 'Play',\n",
       " 'before',\n",
       " 'being',\n",
       " 'published',\n",
       " '.',\n",
       " '\\n\\n    ',\n",
       " 'Resume',\n",
       " 'Scoring',\n",
       " '-',\n",
       " 'With',\n",
       " 'this',\n",
       " 'feature',\n",
       " 'students',\n",
       " '/',\n",
       " 'professionals',\n",
       " 'will',\n",
       " 'be',\n",
       " 'able',\n",
       " 'to',\n",
       " 'see',\n",
       " 'the',\n",
       " 'score',\n",
       " 'of',\n",
       " 'their',\n",
       " 'resume',\n",
       " 'against',\n",
       " 'the',\n",
       " 'job',\n",
       " 'requirement',\n",
       " 'and',\n",
       " 'get',\n",
       " 'feedback',\n",
       " 'on',\n",
       " 'how',\n",
       " 'to',\n",
       " 'how',\n",
       " 'to',\n",
       " 'improve',\n",
       " 'their',\n",
       " 'resume',\n",
       " 'and',\n",
       " 'things',\n",
       " 'or',\n",
       " 'keywords',\n",
       " 'to',\n",
       " 'include',\n",
       " 'or',\n",
       " 'avoid',\n",
       " 'so',\n",
       " 'that',\n",
       " 'their',\n",
       " 'resume',\n",
       " 'easily',\n",
       " 'gets',\n",
       " 'noted',\n",
       " 'by',\n",
       " 'recruiter',\n",
       " 'or',\n",
       " 'passes',\n",
       " 'the',\n",
       " 'ATS',\n",
       " 'system',\n",
       " 'and',\n",
       " 'thus',\n",
       " 'increases',\n",
       " 'the',\n",
       " 'chances',\n",
       " 'of',\n",
       " 'getting',\n",
       " 'a',\n",
       " 'offer',\n",
       " '.',\n",
       " '\\n\\n']"
      ]
     },
     "execution_count": 77,
     "metadata": {},
     "output_type": "execute_result"
    }
   ],
   "source": [
    "tokens  = [token.text for token in doc]\n",
    "tokens"
   ]
  },
  {
   "cell_type": "code",
   "execution_count": 78,
   "metadata": {},
   "outputs": [
    {
     "data": {
      "text/plain": [
       "'!\"#$%&\\'()*+,-./:;<=>?@[\\\\]^_`{|}~\\n\\n\\n'"
      ]
     },
     "execution_count": 78,
     "metadata": {},
     "output_type": "execute_result"
    }
   ],
   "source": [
    "punctuation = punctuation+'\\n'\n",
    "punctuation"
   ]
  },
  {
   "cell_type": "code",
   "execution_count": 79,
   "metadata": {},
   "outputs": [],
   "source": [
    "word_frequencies = {}\n",
    "for word in doc:\n",
    "    if word.text.lower() not in stopwords and word.text.lower() not in punctuation:\n",
    "        if word.text not in word_frequencies.keys():\n",
    "            word_frequencies[word.text] = 1\n",
    "        else:\n",
    "            word_frequencies[word.text] +=1"
   ]
  },
  {
   "cell_type": "code",
   "execution_count": 80,
   "metadata": {},
   "outputs": [
    {
     "name": "stdout",
     "output_type": "stream",
     "text": [
      "{'app': 2, 'lets': 1, 'build': 1, 'Resume': 4, 'minutes': 2, 'Contains': 1, 'prebuilt': 1, 'templates': 1, 'selected': 1, 'entering': 1, 'details': 1, 'generated': 1, 'completed': 1, 'project': 2, 'aims': 1, 'solve': 1, 'problem': 2, 'Research': 1, 'shows': 1, '90': 1, 'CVs/': 1, 'Resumes': 2, 'checked': 1, '2': 1, 'employers': 2, 'implies': 1, 'cases': 1, 'look': 1, 'bits': 1, 'important': 1, 'parts': 2, 'points': 1, 'interest': 1, 'CV/': 1, 'ignores': 1, 'rest': 1, 'help': 1, 'Device': 1, 'machine': 1, 'learning': 1, 'NLP': 1, 'solved': 1, 'divided': 1, 'sub': 1, '\\n\\n    ': 2, 'Building': 1, 'complete': 1, 'open': 1, 'public': 1, 'Beta': 1, 'review': 1, 'Google': 1, 'Play': 1, 'published': 1, 'Scoring': 1, 'feature': 1, 'students': 1, 'professionals': 1, 'able': 1, 'score': 1, 'resume': 3, 'job': 1, 'requirement': 1, 'feedback': 1, 'improve': 1, 'things': 1, 'keywords': 1, 'include': 1, 'avoid': 1, 'easily': 1, 'gets': 1, 'noted': 1, 'recruiter': 1, 'passes': 1, 'ATS': 1, 'system': 1, 'increases': 1, 'chances': 1, 'getting': 1, 'offer': 1}\n"
     ]
    }
   ],
   "source": [
    "print(word_frequencies)"
   ]
  },
  {
   "cell_type": "code",
   "execution_count": 81,
   "metadata": {},
   "outputs": [
    {
     "data": {
      "text/plain": [
       "4"
      ]
     },
     "execution_count": 81,
     "metadata": {},
     "output_type": "execute_result"
    }
   ],
   "source": [
    "max_frequecies = max(word_frequencies.values())\n",
    "max_frequecies"
   ]
  },
  {
   "cell_type": "code",
   "execution_count": 82,
   "metadata": {},
   "outputs": [],
   "source": [
    "for word in word_frequencies.keys():\n",
    "    word_frequencies[word] = word_frequencies[word]/max_frequecies"
   ]
  },
  {
   "cell_type": "code",
   "execution_count": 83,
   "metadata": {},
   "outputs": [
    {
     "name": "stdout",
     "output_type": "stream",
     "text": [
      "{'app': 0.5, 'lets': 0.25, 'build': 0.25, 'Resume': 1.0, 'minutes': 0.5, 'Contains': 0.25, 'prebuilt': 0.25, 'templates': 0.25, 'selected': 0.25, 'entering': 0.25, 'details': 0.25, 'generated': 0.25, 'completed': 0.25, 'project': 0.5, 'aims': 0.25, 'solve': 0.25, 'problem': 0.5, 'Research': 0.25, 'shows': 0.25, '90': 0.25, 'CVs/': 0.25, 'Resumes': 0.5, 'checked': 0.25, '2': 0.25, 'employers': 0.5, 'implies': 0.25, 'cases': 0.25, 'look': 0.25, 'bits': 0.25, 'important': 0.25, 'parts': 0.5, 'points': 0.25, 'interest': 0.25, 'CV/': 0.25, 'ignores': 0.25, 'rest': 0.25, 'help': 0.25, 'Device': 0.25, 'machine': 0.25, 'learning': 0.25, 'NLP': 0.25, 'solved': 0.25, 'divided': 0.25, 'sub': 0.25, '\\n\\n    ': 0.5, 'Building': 0.25, 'complete': 0.25, 'open': 0.25, 'public': 0.25, 'Beta': 0.25, 'review': 0.25, 'Google': 0.25, 'Play': 0.25, 'published': 0.25, 'Scoring': 0.25, 'feature': 0.25, 'students': 0.25, 'professionals': 0.25, 'able': 0.25, 'score': 0.25, 'resume': 0.75, 'job': 0.25, 'requirement': 0.25, 'feedback': 0.25, 'improve': 0.25, 'things': 0.25, 'keywords': 0.25, 'include': 0.25, 'avoid': 0.25, 'easily': 0.25, 'gets': 0.25, 'noted': 0.25, 'recruiter': 0.25, 'passes': 0.25, 'ATS': 0.25, 'system': 0.25, 'increases': 0.25, 'chances': 0.25, 'getting': 0.25, 'offer': 0.25}\n"
     ]
    }
   ],
   "source": [
    "print(word_frequencies)"
   ]
  },
  {
   "cell_type": "code",
   "execution_count": 84,
   "metadata": {},
   "outputs": [
    {
     "name": "stdout",
     "output_type": "stream",
     "text": [
      "[\n",
      "This app lets you build your Resume within minutes., Contains prebuilt templates which can be selected and after entering the details Resume is generated., This part of the app is already completed., However this project aims to solve one more problem., Research shows that, 90% of all CVs/ Resumes are checked for less than 2 minutes by the employers., This implies that, in most of the cases the employers only look at the bits of important parts or the points of interest in the CV/ Resumes and ignores the rest., With the help of on Device machine learning and NLP this problem can be solved.\n",
      "\n",
      ", The project is divided into two sub-parts:\n",
      "\n",
      "    Resume Building - This part is complete and a open public Beta is under review by Google Play before being published.\n",
      "\n",
      "    , Resume Scoring -, With this feature students/professionals will be able to see the score of their resume against the job requirement and get feedback on how to how to improve their resume and things or keywords to include or avoid so that their resume easily gets noted by recruiter or passes the ATS system and thus increases the chances of getting a offer.\n",
      "\n",
      "]\n"
     ]
    }
   ],
   "source": [
    "sentence_tokens = [sent for sent in doc.sents]\n",
    "print(sentence_tokens)"
   ]
  },
  {
   "cell_type": "code",
   "execution_count": 85,
   "metadata": {},
   "outputs": [],
   "source": [
    "sentence_scores = {}\n",
    "for sent in sentence_tokens:\n",
    "    for word in sent:\n",
    "        if word.text.lower() in word_frequencies.keys():\n",
    "            if sent not in sentence_scores.keys():\n",
    "                sentence_scores[sent] = word_frequencies[word.text.lower()]\n",
    "            else:\n",
    "                sentence_scores[sent] = word_frequencies[word.text.lower()]"
   ]
  },
  {
   "cell_type": "code",
   "execution_count": 86,
   "metadata": {},
   "outputs": [
    {
     "data": {
      "text/plain": [
       "{\n",
       " This app lets you build your Resume within minutes.: 0.5,\n",
       " Contains prebuilt templates which can be selected and after entering the details Resume is generated.: 0.25,\n",
       " This part of the app is already completed.: 0.25,\n",
       " However this project aims to solve one more problem.: 0.5,\n",
       " Research shows that, 90% of all CVs/ Resumes are checked for less than 2 minutes by the employers.: 0.5,\n",
       " This implies that, in most of the cases the employers only look at the bits of important parts or the points of interest in the CV/ Resumes and ignores the rest.: 0.25,\n",
       " With the help of on Device machine learning and NLP this problem can be solved.\n",
       " : 0.25,\n",
       " The project is divided into two sub-parts:\n",
       " \n",
       "     Resume Building - This part is complete and a open public Beta is under review by Google Play before being published.\n",
       " \n",
       "     : 0.5,\n",
       " Resume Scoring -: 0.75,\n",
       " With this feature students/professionals will be able to see the score of their resume against the job requirement and get feedback on how to how to improve their resume and things or keywords to include or avoid so that their resume easily gets noted by recruiter or passes the ATS system and thus increases the chances of getting a offer.\n",
       " : 0.25}"
      ]
     },
     "execution_count": 86,
     "metadata": {},
     "output_type": "execute_result"
    }
   ],
   "source": [
    "sentence_scores\n"
   ]
  },
  {
   "cell_type": "code",
   "execution_count": 87,
   "metadata": {},
   "outputs": [],
   "source": [
    "from heapq import nlargest"
   ]
  },
  {
   "cell_type": "code",
   "execution_count": 101,
   "metadata": {},
   "outputs": [
    {
     "data": {
      "text/plain": [
       "6"
      ]
     },
     "execution_count": 101,
     "metadata": {},
     "output_type": "execute_result"
    }
   ],
   "source": [
    "select_length = int(len(sentence_tokens)*0.6)\n",
    "select_length"
   ]
  },
  {
   "cell_type": "code",
   "execution_count": 102,
   "metadata": {},
   "outputs": [],
   "source": [
    "summary = nlargest(select_length,sentence_scores,key = sentence_scores.get)"
   ]
  },
  {
   "cell_type": "code",
   "execution_count": 103,
   "metadata": {},
   "outputs": [
    {
     "data": {
      "text/plain": [
       "[Resume Scoring -,\n",
       " \n",
       " This app lets you build your Resume within minutes.,\n",
       " However this project aims to solve one more problem.,\n",
       " Research shows that, 90% of all CVs/ Resumes are checked for less than 2 minutes by the employers.,\n",
       " The project is divided into two sub-parts:\n",
       " \n",
       "     Resume Building - This part is complete and a open public Beta is under review by Google Play before being published.\n",
       " \n",
       "     ,\n",
       " Contains prebuilt templates which can be selected and after entering the details Resume is generated.]"
      ]
     },
     "execution_count": 103,
     "metadata": {},
     "output_type": "execute_result"
    }
   ],
   "source": [
    "summary"
   ]
  },
  {
   "cell_type": "code",
   "execution_count": 104,
   "metadata": {},
   "outputs": [],
   "source": [
    "final_summary = [word.text for word in summary]"
   ]
  },
  {
   "cell_type": "code",
   "execution_count": 105,
   "metadata": {},
   "outputs": [],
   "source": [
    "summary = ' '.join(final_summary)"
   ]
  },
  {
   "cell_type": "code",
   "execution_count": 106,
   "metadata": {},
   "outputs": [
    {
     "name": "stdout",
     "output_type": "stream",
     "text": [
      "Resume Scoring - \n",
      "This app lets you build your Resume within minutes. However this project aims to solve one more problem. Research shows that, 90% of all CVs/ Resumes are checked for less than 2 minutes by the employers. The project is divided into two sub-parts:\n",
      "\n",
      "    Resume Building - This part is complete and a open public Beta is under review by Google Play before being published.\n",
      "\n",
      "     Contains prebuilt templates which can be selected and after entering the details Resume is generated.\n"
     ]
    }
   ],
   "source": [
    "print(summary)\n"
   ]
  },
  {
   "cell_type": "code",
   "execution_count": 107,
   "metadata": {},
   "outputs": [
    {
     "data": {
      "text/plain": [
       "1120"
      ]
     },
     "execution_count": 107,
     "metadata": {},
     "output_type": "execute_result"
    }
   ],
   "source": [
    "len(text)"
   ]
  },
  {
   "cell_type": "code",
   "execution_count": null,
   "metadata": {},
   "outputs": [],
   "source": []
  },
  {
   "cell_type": "code",
   "execution_count": null,
   "metadata": {},
   "outputs": [],
   "source": []
  },
  {
   "cell_type": "code",
   "execution_count": null,
   "metadata": {},
   "outputs": [],
   "source": []
  }
 ],
 "metadata": {
  "kernelspec": {
   "display_name": "Python 3",
   "language": "python",
   "name": "python3"
  },
  "language_info": {
   "codemirror_mode": {
    "name": "ipython",
    "version": 3
   },
   "file_extension": ".py",
   "mimetype": "text/x-python",
   "name": "python",
   "nbconvert_exporter": "python",
   "pygments_lexer": "ipython3",
   "version": "3.7.6"
  }
 },
 "nbformat": 4,
 "nbformat_minor": 4
}
